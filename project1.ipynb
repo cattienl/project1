{
 "cells": [
  {
   "cell_type": "code",
   "execution_count": null,
   "id": "ec8a8cb1-ca82-47de-8f6d-8356a800410f",
   "metadata": {},
   "outputs": [],
   "source": [
    "!pip3 install pandas"
   ]
  },
  {
   "cell_type": "code",
   "execution_count": null,
   "id": "a62b479a",
   "metadata": {},
   "outputs": [],
   "source": [
    "!pip3 install prophet"
   ]
  },
  {
   "cell_type": "code",
   "execution_count": 4,
   "id": "4bc6a4c9-7591-40c7-aa97-cebbd6f62d8d",
   "metadata": {},
   "outputs": [],
   "source": [
    "import pandas as pd\n",
    "import matplotlib.pyplot as plt\n",
    "\n",
    "from prophet import Prophet\n",
    "from datetime import datetime\n"
   ]
  },
  {
   "cell_type": "code",
   "execution_count": 5,
   "id": "aaee8c7c-075b-41d3-88d8-8c2fc96ac5da",
   "metadata": {},
   "outputs": [
    {
     "data": {
      "text/html": [
       "<div>\n",
       "<style scoped>\n",
       "    .dataframe tbody tr th:only-of-type {\n",
       "        vertical-align: middle;\n",
       "    }\n",
       "\n",
       "    .dataframe tbody tr th {\n",
       "        vertical-align: top;\n",
       "    }\n",
       "\n",
       "    .dataframe thead th {\n",
       "        text-align: right;\n",
       "    }\n",
       "</style>\n",
       "<table border=\"1\" class=\"dataframe\">\n",
       "  <thead>\n",
       "    <tr style=\"text-align: right;\">\n",
       "      <th></th>\n",
       "      <th>date</th>\n",
       "      <th>cloud_cover</th>\n",
       "      <th>sunshine</th>\n",
       "      <th>global_radiation</th>\n",
       "      <th>max_temp</th>\n",
       "      <th>mean_temp</th>\n",
       "      <th>min_temp</th>\n",
       "      <th>precipitation</th>\n",
       "      <th>pressure</th>\n",
       "      <th>snow_depth</th>\n",
       "    </tr>\n",
       "  </thead>\n",
       "  <tbody>\n",
       "    <tr>\n",
       "      <th>0</th>\n",
       "      <td>19790101</td>\n",
       "      <td>2.0</td>\n",
       "      <td>7.0</td>\n",
       "      <td>52.0</td>\n",
       "      <td>2.3</td>\n",
       "      <td>-4.1</td>\n",
       "      <td>-7.5</td>\n",
       "      <td>0.4</td>\n",
       "      <td>101900.0</td>\n",
       "      <td>9.0</td>\n",
       "    </tr>\n",
       "    <tr>\n",
       "      <th>1</th>\n",
       "      <td>19790102</td>\n",
       "      <td>6.0</td>\n",
       "      <td>1.7</td>\n",
       "      <td>27.0</td>\n",
       "      <td>1.6</td>\n",
       "      <td>-2.6</td>\n",
       "      <td>-7.5</td>\n",
       "      <td>0.0</td>\n",
       "      <td>102530.0</td>\n",
       "      <td>8.0</td>\n",
       "    </tr>\n",
       "    <tr>\n",
       "      <th>2</th>\n",
       "      <td>19790103</td>\n",
       "      <td>5.0</td>\n",
       "      <td>0.0</td>\n",
       "      <td>13.0</td>\n",
       "      <td>1.3</td>\n",
       "      <td>-2.8</td>\n",
       "      <td>-7.2</td>\n",
       "      <td>0.0</td>\n",
       "      <td>102050.0</td>\n",
       "      <td>4.0</td>\n",
       "    </tr>\n",
       "    <tr>\n",
       "      <th>3</th>\n",
       "      <td>19790104</td>\n",
       "      <td>8.0</td>\n",
       "      <td>0.0</td>\n",
       "      <td>13.0</td>\n",
       "      <td>-0.3</td>\n",
       "      <td>-2.6</td>\n",
       "      <td>-6.5</td>\n",
       "      <td>0.0</td>\n",
       "      <td>100840.0</td>\n",
       "      <td>2.0</td>\n",
       "    </tr>\n",
       "    <tr>\n",
       "      <th>4</th>\n",
       "      <td>19790105</td>\n",
       "      <td>6.0</td>\n",
       "      <td>2.0</td>\n",
       "      <td>29.0</td>\n",
       "      <td>5.6</td>\n",
       "      <td>-0.8</td>\n",
       "      <td>-1.4</td>\n",
       "      <td>0.0</td>\n",
       "      <td>102250.0</td>\n",
       "      <td>1.0</td>\n",
       "    </tr>\n",
       "  </tbody>\n",
       "</table>\n",
       "</div>"
      ],
      "text/plain": [
       "       date  cloud_cover  sunshine  global_radiation  max_temp  mean_temp  \\\n",
       "0  19790101          2.0       7.0              52.0       2.3       -4.1   \n",
       "1  19790102          6.0       1.7              27.0       1.6       -2.6   \n",
       "2  19790103          5.0       0.0              13.0       1.3       -2.8   \n",
       "3  19790104          8.0       0.0              13.0      -0.3       -2.6   \n",
       "4  19790105          6.0       2.0              29.0       5.6       -0.8   \n",
       "\n",
       "   min_temp  precipitation  pressure  snow_depth  \n",
       "0      -7.5            0.4  101900.0         9.0  \n",
       "1      -7.5            0.0  102530.0         8.0  \n",
       "2      -7.2            0.0  102050.0         4.0  \n",
       "3      -6.5            0.0  100840.0         2.0  \n",
       "4      -1.4            0.0  102250.0         1.0  "
      ]
     },
     "execution_count": 5,
     "metadata": {},
     "output_type": "execute_result"
    }
   ],
   "source": [
    "weather_df = pd.read_csv('C:\\\\Users\\\\kzam3\\\\Downloads\\\\aiproject1\\\\london_weather.csv')\n",
    "weather_df.head()"
   ]
  },
  {
   "cell_type": "code",
   "execution_count": null,
   "id": "05758040",
   "metadata": {},
   "outputs": [],
   "source": [
    "weather_df['ds'] = pd.to_datetime(weather_df['date'], format='%Y%m%d')\n",
    "weather_df.head()"
   ]
  },
  {
   "cell_type": "code",
   "execution_count": null,
   "id": "6cec6eca-295e-4d59-bed3-3c2d467b1477",
   "metadata": {},
   "outputs": [],
   "source": [
    "df_cloud_cover = weather_df[[\"ds\",\"cloud_cover\"]]\n",
    "df_cloud_cover = df_cloud_cover.rename(columns = {\"cloud_cover\":\"y\"})\n",
    "df_cloud_cover"
   ]
  },
  {
   "cell_type": "code",
   "execution_count": null,
   "id": "04046b3b",
   "metadata": {},
   "outputs": [],
   "source": [
    "model_cloud_cover = Prophet()"
   ]
  },
  {
   "cell_type": "code",
   "execution_count": null,
   "id": "c71662d2",
   "metadata": {},
   "outputs": [],
   "source": [
    "model_cloud_cover.fit(df_sunshine)"
   ]
  },
  {
   "cell_type": "code",
   "execution_count": null,
   "id": "53c35283",
   "metadata": {},
   "outputs": [],
   "source": [
    "future_cloud_cover = model_cloud_cover.make_future_dataframe(periods=5, freq=\"Y\")"
   ]
  },
  {
   "cell_type": "code",
   "execution_count": null,
   "id": "ccb77113",
   "metadata": {},
   "outputs": [],
   "source": [
    "forecast_cloud_cover = model_cloud_cover.predict(future_sunshine)"
   ]
  },
  {
   "cell_type": "code",
   "execution_count": null,
   "id": "7321d57f",
   "metadata": {},
   "outputs": [],
   "source": [
    "fig_cloud_cover = model_cloud_cover.plot(forecast_cloud_cover)"
   ]
  },
  {
   "cell_type": "code",
   "execution_count": null,
   "id": "42d25191",
   "metadata": {},
   "outputs": [],
   "source": [
    "forecast_cloud_cover = forecast_cloud_cover.set_index(\"ds\")\n",
    "forecast_cloud_cover.head()"
   ]
  },
  {
   "cell_type": "code",
   "execution_count": null,
   "id": "81ecfe2f",
   "metadata": {},
   "outputs": [],
   "source": [
    "forecast_cloud_cover[['yhat', 'yhat_lower', 'yhat_upper']].iloc[-5:,:].plot()"
   ]
  },
  {
   "cell_type": "code",
   "execution_count": null,
   "id": "79086a7e",
   "metadata": {},
   "outputs": [],
   "source": [
    "forecast_cloud_cover = forecast_cloud_cover.reset_index()\n",
    "fig_cloud_cover_a = model_cloud_cover.plot_components(forecast_cloud_cover)"
   ]
  },
  {
   "cell_type": "code",
   "execution_count": 7,
   "id": "0a466a9d",
   "metadata": {},
   "outputs": [],
   "source": [
    "# Correct the renaming and conversion to datetime format\n",
    "weather_df.rename(columns={'date': 'Date'}, inplace=True)  # Rename correctly first\n",
    "weather_df['Date'] = pd.to_datetime(weather_df['Date'], format='%Y%m%d')  # Convert after renaming\n"
   ]
  },
  {
   "cell_type": "code",
   "execution_count": 9,
   "id": "31f62285",
   "metadata": {},
   "outputs": [
    {
     "name": "stdout",
     "output_type": "stream",
     "text": [
      "        Date  cloud_cover  sunshine  global_radiation  max_temp  mean_temp  \\\n",
      "0 2011-11-23          7.0       2.0              35.0      13.5        6.8   \n",
      "1 2011-11-24          3.0       2.0              35.0      12.5        8.6   \n",
      "2 2011-11-25          3.0       5.0              52.0      14.0       11.0   \n",
      "3 2011-11-26          4.0       0.7              24.0      13.9       10.2   \n",
      "4 2011-11-27          3.0       5.9              55.0      13.2       11.8   \n",
      "\n",
      "   min_temp  precipitation  pressure  snow_depth     KWH  \n",
      "0       2.6            0.2  102720.0         0.0   90.39  \n",
      "1       3.7            0.2  102710.0         0.0  213.41  \n",
      "2       9.5            0.0  102450.0         0.0  303.99  \n",
      "3       6.3            0.0  102580.0         0.0  420.98  \n",
      "4       9.7            0.0  102130.0         0.0  444.88  \n",
      "Correlation matrix:\n",
      "            mean_temp       KWH\n",
      "mean_temp   1.000000 -0.105456\n",
      "KWH        -0.105456  1.000000\n"
     ]
    },
    {
     "data": {
      "image/png": "[encoded data removed]",
      "text/plain": [
       "<Figure size 640x480 with 1 Axes>"
      ]
     },
     "metadata": {},
     "output_type": "display_data"
    }
   ],
   "source": [
    "# Load the energy consumption data\n",
    "energy_df = pd.read_csv('C:\\\\Users\\\\kzam3\\\\Downloads\\\\aiproject1\\\\london_energy_consumption_upload.csv')\n",
    "\n",
    "# Convert date columns to datetime format for both dataframes\n",
    "energy_df['Date'] = pd.to_datetime(energy_df['Date'], format='%m/%d/%Y')\n",
    "\n",
    "# Merge the dataframes on the 'Date' column\n",
    "merged_df = pd.merge(weather_df, energy_df, on='Date', how='inner')\n",
    "\n",
    "# Check the first few rows to ensure it merged correctly\n",
    "print(merged_df.head())\n",
    "\n",
    "# Ensure no NaN values in 'mean_temp' and 'KWH' columns that could skew the results\n",
    "merged_df.dropna(subset=['mean_temp', 'KWH'], inplace=True)\n",
    "\n",
    "# Calculate the correlation between 'mean_temp' and 'KWH'\n",
    "correlation_matrix = merged_df[['mean_temp', 'KWH']].corr()\n",
    "print(\"Correlation matrix:\\n\", correlation_matrix)\n",
    "\n",
    "# Use matplotlib for a scatter plot\n",
    "plt.scatter(merged_df['mean_temp'], merged_df['KWH'])\n",
    "plt.title('Mean Temperature vs. Energy Consumption')\n",
    "plt.xlabel('Mean Temperature (°C)')\n",
    "plt.ylabel('Energy Consumption (KWH)')\n",
    "plt.grid(True)  # Adds a grid to the plot for better readability\n",
    "plt.show()"
   ]
  }
 ],
 "metadata": {
  "kernelspec": {
   "display_name": "Python 3 (ipykernel)",
   "language": "python",
   "name": "python3"
  },
  "language_info": {
   "codemirror_mode": {
    "name": "ipython",
    "version": 3
   },
   "file_extension": ".py",
   "mimetype": "text/x-python",
   "name": "python",
   "nbconvert_exporter": "python",
   "pygments_lexer": "ipython3",
   "version": "3.11.5"
  }
 },
 "nbformat": 4,
 "nbformat_minor": 5
}
